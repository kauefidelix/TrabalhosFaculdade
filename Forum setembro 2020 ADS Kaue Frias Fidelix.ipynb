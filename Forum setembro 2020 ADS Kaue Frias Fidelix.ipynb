{
 "cells": [
  {
   "cell_type": "markdown",
   "metadata": {},
   "source": [
    "# Haunted Rooms (nome original do desafio \"Quartos Assombrados\")"
   ]
  },
  {
   "cell_type": "markdown",
   "metadata": {},
   "source": [
    "Problema:<br>\n",
    "<br>\n",
    "Estudantes da Universidade de Cambridge foram a um Hack-a-Thon em Massachussetts. Eles decidiram passar a noite lá. Então foram a um hotel chamado Hawthorne Hotel. O hotel é representado por uma matriz de quartos. Cada célula da matriz possui um valor referente ao preço do quarto. Alguns quartos no hotel estão disponíveis de graça (custo=0). Após investigações do presidente Nicole, descobriu-se que eles eram grátis pois eram assombrados. Sendo responsável pela segurança de todos os membros da equipe, ele decidiu não reservar os quartos que atendem as seguintes condições:  1] Quarto é assombrado;<br>\n",
    "<br>\n",
    "2] Quartos abaixo de um quarto assombrado na mesma coluna.<br>\n",
    "<br>\n",
    "Esses quartos não são seguros, ajude Nicole a calcular o preço total dos quartos seguros para a equipe.<br>\n",
    "<br>\n",
    "Input:<br>\n",
    "<br>\n",
    "[Array de 2 dimensões] A primeira linha contém uma Integer positiva N(numero de linhas) e M(numero de colunas). Cada uma das próximas N linhas contém M integers separados por espaço denotando a linha da matriz. Cada elemento da matriz representa o custo do quarto.<br>\n",
    "<br>\n",
    "Output:<br>\n",
    "<br>\n",
    "Única integer denotando a soma dos custos de todos os quartos.<br>\n",
    "<br>\n",
    "Constraints:<br>\n",
    "1 ≤ matrix.length ≤ 5 1 ≤ matrix[i].length ≤ 5 0 ≤ matrix[i][j] ≤ 10<br>\n",
    "<br>\n",
    "Input de Exemplo<br>\n",
    "3 4<br>\n",
    "0 1 1 0<br>\n",
    "0 5 0 2<br>\n",
    "2 0 3 3<br>\n",
    "<br>\n",
    "Output de Exemplo<br>\n",
    "<br>\n",
    "7"
   ]
  },
  {
   "cell_type": "code",
   "execution_count": 10,
   "metadata": {},
   "outputs": [
    {
     "name": "stdout",
     "output_type": "stream",
     "text": [
      "3 4\n"
     ]
    }
   ],
   "source": [
    "#Primeiro defino a variável\n",
    "inp = input() #pego o input para N e M (não uso o M)\n",
    "rooms = [] #crio uma lista vazia dos quartos como placeholder\n",
    "n = int(inp[0]) #extraio o N do input dado\n",
    "final_price = 0 #defino a variável do preço final, com o 0 sendo placeholder também"
   ]
  },
  {
   "cell_type": "code",
   "execution_count": 11,
   "metadata": {},
   "outputs": [],
   "source": [
    "def get_input(n, rooms): #defino uma função para pegar todas as linhas de input\n",
    "    for x in range(0,n): #esse loop vai iterar por todas as linhas de input, usando o range parando em N\n",
    "        a = input()  #pega o input de cada um\n",
    "        rooms.append(list(a)) #cria uma lista aninhada para cada linha (andares)"
   ]
  },
  {
   "cell_type": "code",
   "execution_count": 12,
   "metadata": {},
   "outputs": [],
   "source": [
    "def remove_haunted(n, rooms, final_price): #aqui é a parte complicada, primeiro defino a função\n",
    "    g = 0 #Crio uma variável que vai servir de contador do Index de cada quarto\n",
    "    for x in range(0,n): #itero pela lista de listas\n",
    "        for y in rooms[x]: #itera por dentro de cada lista aninhada da primeira à ultima\n",
    "            if y == '0': #se encontrar um 0 todas abaixo deveram ser 0 também\n",
    "                if x+1 < n: #isso é importante para não dar o erro index out of range, paro antes de n, porque n é 1+ fora do range (as listas começam no index 0)\n",
    "                    rooms[x+1][g] = '0' #mudo o index de todos os quartos abaixo sendo x+1 a linha (andar) e g o index dos quartos que precisam ser 0, pela regra de colunas apresentada no enunciado\n",
    "            if y != \" \": #para não receber um erro, só pode somar quando há um número, não um espaço \n",
    "                final_price += int(y) #adiciona os valores dos quartos seguros no preço final\n",
    "            g += 1 #adiciona 1 ao index para avançar o quarto que esta sendo avaliado\n",
    "        g = 0 #reseta o index para analisar o próximo andar\n",
    "    return final_price #apenas retorna o preço final"
   ]
  },
  {
   "cell_type": "code",
   "execution_count": 13,
   "metadata": {},
   "outputs": [
    {
     "name": "stdout",
     "output_type": "stream",
     "text": [
      "0 1 1 0\n",
      "0 5 0 2\n",
      "2 0 3 3\n"
     ]
    }
   ],
   "source": [
    "get_input(n, rooms) #roda para pegar a matriz"
   ]
  },
  {
   "cell_type": "code",
   "execution_count": 14,
   "metadata": {},
   "outputs": [
    {
     "name": "stdout",
     "output_type": "stream",
     "text": [
      "7\n"
     ]
    }
   ],
   "source": [
    "print(remove_haunted(n, rooms, final_price)) #roda a função para pegar o valor final e imprime ele no console"
   ]
  },
  {
   "cell_type": "code",
   "execution_count": null,
   "metadata": {},
   "outputs": [],
   "source": []
  }
 ],
 "metadata": {
  "kernelspec": {
   "display_name": "Python 3",
   "language": "python",
   "name": "python3"
  },
  "language_info": {
   "codemirror_mode": {
    "name": "ipython",
    "version": 3
   },
   "file_extension": ".py",
   "mimetype": "text/x-python",
   "name": "python",
   "nbconvert_exporter": "python",
   "pygments_lexer": "ipython3",
   "version": "3.7.1"
  }
 },
 "nbformat": 4,
 "nbformat_minor": 2
}
